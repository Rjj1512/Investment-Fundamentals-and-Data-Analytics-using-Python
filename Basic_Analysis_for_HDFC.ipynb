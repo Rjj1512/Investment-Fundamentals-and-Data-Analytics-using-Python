{
  "nbformat": 4,
  "nbformat_minor": 0,
  "metadata": {
    "kernelspec": {
      "display_name": "Python 3",
      "language": "python",
      "name": "python3"
    },
    "language_info": {
      "codemirror_mode": {
        "name": "ipython",
        "version": 3
      },
      "file_extension": ".py",
      "mimetype": "text/x-python",
      "name": "python",
      "nbconvert_exporter": "python",
      "pygments_lexer": "ipython3",
      "version": "3.6.4"
    },
    "colab": {
      "name": "Basic Analysis for HDFC.ipynb",
      "provenance": []
    }
  },
  "cells": [
    {
      "cell_type": "markdown",
      "metadata": {
        "id": "ChJVB4iDgk4n",
        "colab_type": "text"
      },
      "source": [
        "# Alpha Vantage"
      ]
    },
    {
      "cell_type": "markdown",
      "metadata": {
        "id": "F4SmDkNXgk4o",
        "colab_type": "text"
      },
      "source": [
        "***"
      ]
    },
    {
      "cell_type": "markdown",
      "metadata": {
        "id": "yI2VK3K5gk4r",
        "colab_type": "text"
      },
      "source": [
        "First, you'll need to pip install the alpha-vantage module. Hence, open Anaconda Prompt and run **pip install alpha-vantage**.\n",
        "<br> <br>\n",
        "Then, you need to go to https://www.alphavantage.co/ and click on \"Get Your Free API Key\". Save it, as you will need to replace all \"INSERT-YOUR-API-KEY-HERE\" strings you see within the code presented in this document."
      ]
    },
    {
      "cell_type": "markdown",
      "metadata": {
        "id": "2F1wPe9lgk4s",
        "colab_type": "text"
      },
      "source": [
        "Then, import the usual modules for retrieving and manipulating financial data in Python:"
      ]
    },
    {
      "cell_type": "code",
      "metadata": {
        "id": "E-K7bFblgk4t",
        "colab_type": "code",
        "colab": {}
      },
      "source": [
        "import numpy as np\n",
        "import pandas as pd\n",
        "from pandas_datareader import data as wb\n",
        "import matplotlib.pyplot as plt"
      ],
      "execution_count": 0,
      "outputs": []
    },
    {
      "cell_type": "markdown",
      "metadata": {
        "id": "tanUwU5Wgk4z",
        "colab_type": "text"
      },
      "source": [
        "From the module you just installed, you need to import **TimeSeries**. Hence, the following line of code will do the job."
      ]
    },
    {
      "cell_type": "code",
      "metadata": {
        "id": "JSGfG_0Kgk41",
        "colab_type": "code",
        "colab": {}
      },
      "source": [
        "from alpha_vantage.timeseries import TimeSeries"
      ],
      "execution_count": 0,
      "outputs": []
    },
    {
      "cell_type": "markdown",
      "metadata": {
        "id": "tbTgLun-gk46",
        "colab_type": "text"
      },
      "source": [
        "Then, with the following line, designate your API key, as well as the format in which you would like to retrieve the data. In our case, this will be the 'pandas' module."
      ]
    },
    {
      "cell_type": "code",
      "metadata": {
        "id": "RP3PPIGWgk47",
        "colab_type": "code",
        "colab": {}
      },
      "source": [
        "ts = TimeSeries(key = 'WWPS6CCWENSNDASU', output_format='pandas')"
      ],
      "execution_count": 0,
      "outputs": []
    },
    {
      "cell_type": "markdown",
      "metadata": {
        "id": "a9JKKLYqgk4_",
        "colab_type": "text"
      },
      "source": [
        "Finally, give a name to the new variable, containing the name of the stock and a suffix indicating the API we have retrieved the data from. <br>\n",
        "Next to this new variable, you need to give the name to \"metadata\", as it will be storing information about the dataset retrieved."
      ]
    },
    {
      "cell_type": "markdown",
      "metadata": {
        "id": "2NHsg0b0gk4_",
        "colab_type": "text"
      },
      "source": [
        "Then, apply the **.get_daily_adjusted()** method to obtain the adjusted closing prices for the designated stock."
      ]
    },
    {
      "cell_type": "code",
      "metadata": {
        "id": "rYnE--OUgk5F",
        "colab_type": "code",
        "outputId": "274aa59b-6ce4-4737-c9da-6580f5a464cb",
        "colab": {
          "base_uri": "https://localhost:8080/",
          "height": 431
        }
      },
      "source": [
        "Hdfc, metadata = ts.get_daily_adjusted('BSE:HDFC', outputsize='full')\n",
        "Hdfc = Hdfc.sort_index(axis=0)\n",
        "Hdfc"
      ],
      "execution_count": 0,
      "outputs": [
        {
          "output_type": "execute_result",
          "data": {
            "text/html": [
              "<div>\n",
              "<style scoped>\n",
              "    .dataframe tbody tr th:only-of-type {\n",
              "        vertical-align: middle;\n",
              "    }\n",
              "\n",
              "    .dataframe tbody tr th {\n",
              "        vertical-align: top;\n",
              "    }\n",
              "\n",
              "    .dataframe thead th {\n",
              "        text-align: right;\n",
              "    }\n",
              "</style>\n",
              "<table border=\"1\" class=\"dataframe\">\n",
              "  <thead>\n",
              "    <tr style=\"text-align: right;\">\n",
              "      <th></th>\n",
              "      <th>1. open</th>\n",
              "      <th>2. high</th>\n",
              "      <th>3. low</th>\n",
              "      <th>4. close</th>\n",
              "      <th>5. adjusted close</th>\n",
              "      <th>6. volume</th>\n",
              "      <th>7. dividend amount</th>\n",
              "      <th>8. split coefficient</th>\n",
              "    </tr>\n",
              "    <tr>\n",
              "      <th>date</th>\n",
              "      <th></th>\n",
              "      <th></th>\n",
              "      <th></th>\n",
              "      <th></th>\n",
              "      <th></th>\n",
              "      <th></th>\n",
              "      <th></th>\n",
              "      <th></th>\n",
              "    </tr>\n",
              "  </thead>\n",
              "  <tbody>\n",
              "    <tr>\n",
              "      <th>2000-01-03</th>\n",
              "      <td>30.0</td>\n",
              "      <td>30.885</td>\n",
              "      <td>29.305</td>\n",
              "      <td>30.885</td>\n",
              "      <td>3.5951</td>\n",
              "      <td>6243965.0</td>\n",
              "      <td>0.0</td>\n",
              "      <td>1.0</td>\n",
              "    </tr>\n",
              "    <tr>\n",
              "      <th>2000-01-04</th>\n",
              "      <td>32.3</td>\n",
              "      <td>32.350</td>\n",
              "      <td>29.400</td>\n",
              "      <td>30.375</td>\n",
              "      <td>3.5357</td>\n",
              "      <td>3547675.0</td>\n",
              "      <td>0.0</td>\n",
              "      <td>1.0</td>\n",
              "    </tr>\n",
              "    <tr>\n",
              "      <th>2000-01-05</th>\n",
              "      <td>29.9</td>\n",
              "      <td>30.100</td>\n",
              "      <td>28.000</td>\n",
              "      <td>29.200</td>\n",
              "      <td>3.3989</td>\n",
              "      <td>2522065.0</td>\n",
              "      <td>0.0</td>\n",
              "      <td>1.0</td>\n",
              "    </tr>\n",
              "    <tr>\n",
              "      <th>2000-01-06</th>\n",
              "      <td>29.5</td>\n",
              "      <td>30.340</td>\n",
              "      <td>29.200</td>\n",
              "      <td>29.410</td>\n",
              "      <td>3.4234</td>\n",
              "      <td>1994390.0</td>\n",
              "      <td>0.0</td>\n",
              "      <td>1.0</td>\n",
              "    </tr>\n",
              "    <tr>\n",
              "      <th>2000-01-07</th>\n",
              "      <td>29.2</td>\n",
              "      <td>29.480</td>\n",
              "      <td>27.930</td>\n",
              "      <td>28.500</td>\n",
              "      <td>3.3174</td>\n",
              "      <td>3132470.0</td>\n",
              "      <td>0.0</td>\n",
              "      <td>1.0</td>\n",
              "    </tr>\n",
              "    <tr>\n",
              "      <th>...</th>\n",
              "      <td>...</td>\n",
              "      <td>...</td>\n",
              "      <td>...</td>\n",
              "      <td>...</td>\n",
              "      <td>...</td>\n",
              "      <td>...</td>\n",
              "      <td>...</td>\n",
              "      <td>...</td>\n",
              "    </tr>\n",
              "    <tr>\n",
              "      <th>2020-04-03</th>\n",
              "      <td>1584.4</td>\n",
              "      <td>1584.400</td>\n",
              "      <td>1483.150</td>\n",
              "      <td>1499.400</td>\n",
              "      <td>1499.4000</td>\n",
              "      <td>201240.0</td>\n",
              "      <td>0.0</td>\n",
              "      <td>1.0</td>\n",
              "    </tr>\n",
              "    <tr>\n",
              "      <th>2020-04-07</th>\n",
              "      <td>1575.0</td>\n",
              "      <td>1577.700</td>\n",
              "      <td>1518.700</td>\n",
              "      <td>1555.200</td>\n",
              "      <td>1555.2000</td>\n",
              "      <td>351175.0</td>\n",
              "      <td>0.0</td>\n",
              "      <td>1.0</td>\n",
              "    </tr>\n",
              "    <tr>\n",
              "      <th>2020-04-08</th>\n",
              "      <td>1541.0</td>\n",
              "      <td>1690.350</td>\n",
              "      <td>1540.000</td>\n",
              "      <td>1557.350</td>\n",
              "      <td>1557.3500</td>\n",
              "      <td>377331.0</td>\n",
              "      <td>0.0</td>\n",
              "      <td>1.0</td>\n",
              "    </tr>\n",
              "    <tr>\n",
              "      <th>2020-04-09</th>\n",
              "      <td>1585.0</td>\n",
              "      <td>1713.050</td>\n",
              "      <td>1585.000</td>\n",
              "      <td>1701.950</td>\n",
              "      <td>1701.9500</td>\n",
              "      <td>377198.0</td>\n",
              "      <td>0.0</td>\n",
              "      <td>1.0</td>\n",
              "    </tr>\n",
              "    <tr>\n",
              "      <th>2020-04-13</th>\n",
              "      <td>1730.0</td>\n",
              "      <td>1763.550</td>\n",
              "      <td>1647.850</td>\n",
              "      <td>1654.450</td>\n",
              "      <td>1654.4500</td>\n",
              "      <td>212770.0</td>\n",
              "      <td>0.0</td>\n",
              "      <td>1.0</td>\n",
              "    </tr>\n",
              "  </tbody>\n",
              "</table>\n",
              "<p>5077 rows × 8 columns</p>\n",
              "</div>"
            ],
            "text/plain": [
              "            1. open   2. high  ...  7. dividend amount  8. split coefficient\n",
              "date                           ...                                          \n",
              "2000-01-03     30.0    30.885  ...                 0.0                   1.0\n",
              "2000-01-04     32.3    32.350  ...                 0.0                   1.0\n",
              "2000-01-05     29.9    30.100  ...                 0.0                   1.0\n",
              "2000-01-06     29.5    30.340  ...                 0.0                   1.0\n",
              "2000-01-07     29.2    29.480  ...                 0.0                   1.0\n",
              "...             ...       ...  ...                 ...                   ...\n",
              "2020-04-03   1584.4  1584.400  ...                 0.0                   1.0\n",
              "2020-04-07   1575.0  1577.700  ...                 0.0                   1.0\n",
              "2020-04-08   1541.0  1690.350  ...                 0.0                   1.0\n",
              "2020-04-09   1585.0  1713.050  ...                 0.0                   1.0\n",
              "2020-04-13   1730.0  1763.550  ...                 0.0                   1.0\n",
              "\n",
              "[5077 rows x 8 columns]"
            ]
          },
          "metadata": {
            "tags": []
          },
          "execution_count": 28
        }
      ]
    },
    {
      "cell_type": "markdown",
      "metadata": {
        "id": "wus50Zhogk5K",
        "colab_type": "text"
      },
      "source": [
        "Apart from stocks, tickers such as SENSEX (^BSESN) can also be retrieved."
      ]
    },
    {
      "cell_type": "code",
      "metadata": {
        "id": "_s1_gieGgk5L",
        "colab_type": "code",
        "outputId": "2aa9d530-4a95-4d53-ff1b-17af0e5bcb79",
        "colab": {
          "base_uri": "https://localhost:8080/",
          "height": 168
        }
      },
      "source": [
        "Sensex, metadata = ts.get_daily_adjusted('^BSESN', outputsize='full')\n",
        "Sensex = Sensex.sort_index(axis=0)\n",
        "Sensex.loc['2020-01-03']"
      ],
      "execution_count": 0,
      "outputs": [
        {
          "output_type": "execute_result",
          "data": {
            "text/plain": [
              "1. open                 41634.5117\n",
              "2. high                 41636.1797\n",
              "3. low                  41348.6797\n",
              "4. close                41464.6094\n",
              "5. adjusted close       41464.6094\n",
              "6. volume                8900.0000\n",
              "7. dividend amount          0.0000\n",
              "8. split coefficient        1.0000\n",
              "Name: 2020-01-03 00:00:00, dtype: float64"
            ]
          },
          "metadata": {
            "tags": []
          },
          "execution_count": 29
        }
      ]
    },
    {
      "cell_type": "markdown",
      "metadata": {
        "id": "0Vgx6HZXgk5N",
        "colab_type": "text"
      },
      "source": [
        "To combine specific columns from various stocks, one would need to *concatenate* the columns of interest by using the **.concat()** function to specify which columns you want to extract."
      ]
    },
    {
      "cell_type": "code",
      "metadata": {
        "id": "lAOAylvPgk5N",
        "colab_type": "code",
        "outputId": "cbd45e8d-505c-4b6a-e5e3-5f472ecb53f8",
        "colab": {
          "base_uri": "https://localhost:8080/",
          "height": 431
        }
      },
      "source": [
        "pfolio_av = pd.concat([Hdfc['4. close'], Sensex['4. close']], axis = 1)\n",
        "pfolio_av.columns = ['HDFC', 'SENSEX']\n",
        "pfolio_av"
      ],
      "execution_count": 0,
      "outputs": [
        {
          "output_type": "execute_result",
          "data": {
            "text/html": [
              "<div>\n",
              "<style scoped>\n",
              "    .dataframe tbody tr th:only-of-type {\n",
              "        vertical-align: middle;\n",
              "    }\n",
              "\n",
              "    .dataframe tbody tr th {\n",
              "        vertical-align: top;\n",
              "    }\n",
              "\n",
              "    .dataframe thead th {\n",
              "        text-align: right;\n",
              "    }\n",
              "</style>\n",
              "<table border=\"1\" class=\"dataframe\">\n",
              "  <thead>\n",
              "    <tr style=\"text-align: right;\">\n",
              "      <th></th>\n",
              "      <th>HDFC</th>\n",
              "      <th>SENSEX</th>\n",
              "    </tr>\n",
              "    <tr>\n",
              "      <th>date</th>\n",
              "      <th></th>\n",
              "      <th></th>\n",
              "    </tr>\n",
              "  </thead>\n",
              "  <tbody>\n",
              "    <tr>\n",
              "      <th>2000-01-03</th>\n",
              "      <td>30.885</td>\n",
              "      <td>5375.1099</td>\n",
              "    </tr>\n",
              "    <tr>\n",
              "      <th>2000-01-04</th>\n",
              "      <td>30.375</td>\n",
              "      <td>5491.0098</td>\n",
              "    </tr>\n",
              "    <tr>\n",
              "      <th>2000-01-05</th>\n",
              "      <td>29.200</td>\n",
              "      <td>5357.0000</td>\n",
              "    </tr>\n",
              "    <tr>\n",
              "      <th>2000-01-06</th>\n",
              "      <td>29.410</td>\n",
              "      <td>5421.5298</td>\n",
              "    </tr>\n",
              "    <tr>\n",
              "      <th>2000-01-07</th>\n",
              "      <td>28.500</td>\n",
              "      <td>5414.4800</td>\n",
              "    </tr>\n",
              "    <tr>\n",
              "      <th>...</th>\n",
              "      <td>...</td>\n",
              "      <td>...</td>\n",
              "    </tr>\n",
              "    <tr>\n",
              "      <th>2020-04-03</th>\n",
              "      <td>1499.400</td>\n",
              "      <td>27590.9492</td>\n",
              "    </tr>\n",
              "    <tr>\n",
              "      <th>2020-04-07</th>\n",
              "      <td>1555.200</td>\n",
              "      <td>30067.2109</td>\n",
              "    </tr>\n",
              "    <tr>\n",
              "      <th>2020-04-08</th>\n",
              "      <td>1557.350</td>\n",
              "      <td>29893.9609</td>\n",
              "    </tr>\n",
              "    <tr>\n",
              "      <th>2020-04-09</th>\n",
              "      <td>1701.950</td>\n",
              "      <td>31159.6191</td>\n",
              "    </tr>\n",
              "    <tr>\n",
              "      <th>2020-04-13</th>\n",
              "      <td>1654.450</td>\n",
              "      <td>30690.0195</td>\n",
              "    </tr>\n",
              "  </tbody>\n",
              "</table>\n",
              "<p>5077 rows × 2 columns</p>\n",
              "</div>"
            ],
            "text/plain": [
              "                HDFC      SENSEX\n",
              "date                            \n",
              "2000-01-03    30.885   5375.1099\n",
              "2000-01-04    30.375   5491.0098\n",
              "2000-01-05    29.200   5357.0000\n",
              "2000-01-06    29.410   5421.5298\n",
              "2000-01-07    28.500   5414.4800\n",
              "...              ...         ...\n",
              "2020-04-03  1499.400  27590.9492\n",
              "2020-04-07  1555.200  30067.2109\n",
              "2020-04-08  1557.350  29893.9609\n",
              "2020-04-09  1701.950  31159.6191\n",
              "2020-04-13  1654.450  30690.0195\n",
              "\n",
              "[5077 rows x 2 columns]"
            ]
          },
          "metadata": {
            "tags": []
          },
          "execution_count": 30
        }
      ]
    },
    {
      "cell_type": "code",
      "metadata": {
        "id": "mfe6K6-uI1gJ",
        "colab_type": "code",
        "outputId": "ff12de68-2dad-43f2-a9a8-51bcef44e4a1",
        "colab": {
          "base_uri": "https://localhost:8080/",
          "height": 34
        }
      },
      "source": [
        "Hdfc['Return'] = ( ( Hdfc['4. close'] - Hdfc['4. close'].shift(1) )/ Hdfc['4. close'].shift(1) )\n",
        "Hdfc['Return'].mean()"
      ],
      "execution_count": 0,
      "outputs": [
        {
          "output_type": "execute_result",
          "data": {
            "text/plain": [
              "0.0010415539448957389"
            ]
          },
          "metadata": {
            "tags": []
          },
          "execution_count": 31
        }
      ]
    },
    {
      "cell_type": "code",
      "metadata": {
        "id": "d3hdQUmWODXS",
        "colab_type": "code",
        "outputId": "86b9815b-e38b-45c3-d1e5-f9850a45a481",
        "colab": {
          "base_uri": "https://localhost:8080/",
          "height": 318
        }
      },
      "source": [
        "Hdfc['Return'].plot(figsize = (8,5))\n",
        "plt.show()"
      ],
      "execution_count": 0,
      "outputs": [
        {
          "output_type": "display_data",
          "data": {
            "image/png": "[encoded data removed]",
            "text/plain": [
              "<Figure size 576x360 with 1 Axes>"
            ]
          },
          "metadata": {
            "tags": [],
            "needs_background": "light"
          }
        }
      ]
    },
    {
      "cell_type": "code",
      "metadata": {
        "id": "i8QFTPQ9JUcx",
        "colab_type": "code",
        "outputId": "6ae75d7e-b178-413d-d194-3c98a46057e2",
        "colab": {
          "base_uri": "https://localhost:8080/",
          "height": 34
        }
      },
      "source": [
        "annual_returnper = Hdfc['Return'].mean() * 250 * 100\n",
        "annual_returnper"
      ],
      "execution_count": 0,
      "outputs": [
        {
          "output_type": "execute_result",
          "data": {
            "text/plain": [
              "26.038848622393473"
            ]
          },
          "metadata": {
            "tags": []
          },
          "execution_count": 33
        }
      ]
    },
    {
      "cell_type": "code",
      "metadata": {
        "id": "lD7AIKJf_clg",
        "colab_type": "code",
        "outputId": "30691572-e202-47d3-93c3-63dfd976c4cf",
        "colab": {
          "base_uri": "https://localhost:8080/",
          "height": 34
        }
      },
      "source": [
        "Hdfc['Log Return'] = np.log(Hdfc['4. close'] / Hdfc['4. close'].shift(1))\n",
        "logreturn_annualper = 250 * Hdfc['Log Return'].mean() * 100\n",
        "logreturn_annualper"
      ],
      "execution_count": 0,
      "outputs": [
        {
          "output_type": "execute_result",
          "data": {
            "text/plain": [
              "19.606743878776072"
            ]
          },
          "metadata": {
            "tags": []
          },
          "execution_count": 34
        }
      ]
    },
    {
      "cell_type": "code",
      "metadata": {
        "id": "rn7txDKPAel5",
        "colab_type": "code",
        "outputId": "de1de490-d06c-4acb-c362-49fa30c869a7",
        "colab": {
          "base_uri": "https://localhost:8080/",
          "height": 318
        }
      },
      "source": [
        "Hdfc['Log Return'].plot(figsize = (8,5))\n",
        "plt.show()"
      ],
      "execution_count": 0,
      "outputs": [
        {
          "output_type": "display_data",
          "data": {
            "image/png": "[encoded data removed]",
            "text/plain": [
              "<Figure size 576x360 with 1 Axes>"
            ]
          },
          "metadata": {
            "tags": [],
            "needs_background": "light"
          }
        }
      ]
    }
  ]
}